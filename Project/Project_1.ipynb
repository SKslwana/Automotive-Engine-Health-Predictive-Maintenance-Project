{
 "cells": [
  {
   "cell_type": "markdown",
   "metadata": {
    "id": "PRvDCkmjdEQN"
   },
   "source": [
    "Checking Versions of Libraries"
   ]
  },
  {
   "cell_type": "code",
   "execution_count": 1,
   "metadata": {
    "colab": {
     "base_uri": "https://localhost:8080/"
    },
    "id": "o24H0Smxcn5p",
    "outputId": "9551421d-6e48-438c-d74e-054c2ec24a29"
   },
   "outputs": [
    {
     "name": "stdout",
     "output_type": "stream",
     "text": [
      "Python: 3.7.4 (default, Aug  9 2019, 18:34:13) [MSC v.1915 64 bit (AMD64)]\n",
      "scipy: 1.7.3\n",
      "numpy: 1.17.3\n",
      "matplotlib: 3.1.1\n",
      "pandas: 0.25.1\n",
      "sklearn: 1.0.2\n"
     ]
    }
   ],
   "source": [
    "# Check the versions of libraries\n",
    "\n",
    "# Python version\n",
    "import sys\n",
    "print('Python: {}'.format(sys.version))\n",
    "# scipy\n",
    "import scipy\n",
    "print('scipy: {}'.format(scipy.__version__))\n",
    "# numpy\n",
    "import numpy\n",
    "print('numpy: {}'.format(numpy.__version__))\n",
    "# matplotlib\n",
    "import matplotlib\n",
    "print('matplotlib: {}'.format(matplotlib.__version__))\n",
    "# pandas\n",
    "import pandas\n",
    "print('pandas: {}'.format(pandas.__version__))\n",
    "# scikit-learn\n",
    "import sklearn\n",
    "print('sklearn: {}'.format(sklearn.__version__))"
   ]
  },
  {
   "cell_type": "markdown",
   "metadata": {
    "id": "wP7TZ87idMnU"
   },
   "source": [
    "Importing Libraries"
   ]
  },
  {
   "cell_type": "code",
   "execution_count": 2,
   "metadata": {
    "id": "dyv_6QOhhPtb"
   },
   "outputs": [],
   "source": [
    "import pandas as pd\n",
    "import numpy as np\n",
    "\n",
    "import seaborn as sns\n",
    "import matplotlib.pyplot as plt\n",
    "from sklearn.preprocessing import LabelEncoder\n",
    "from sklearn.feature_selection import SelectKBest\n",
    "from sklearn.feature_selection import chi2\n",
    "\n",
    "from sklearn.ensemble import GradientBoostingClassifier\n",
    "from sklearn.ensemble import ExtraTreesClassifier\n",
    "from sklearn.preprocessing import StandardScaler\n",
    "from sklearn.model_selection import cross_val_score\n",
    "from imblearn.over_sampling import RandomOverSampler, SMOTE\n",
    "from imblearn.under_sampling import RandomUnderSampler\n",
    "from sklearn.pipeline import make_pipeline\n",
    "from sklearn.model_selection import train_test_split\n",
    "# import tensorflow as tf\n",
    "# from tensorflow import keras\n",
    "\n",
    "from sklearn.ensemble import RandomForestClassifier\n",
    "from sklearn.neural_network import MLPClassifier\n",
    "from sklearn.linear_model import LogisticRegression\n",
    "from sklearn.datasets import make_classification\n",
    "from sklearn.metrics import classification_report,confusion_matrix, roc_auc_score, roc_curve, accuracy_score"
   ]
  },
  {
   "cell_type": "markdown",
   "metadata": {
    "id": "bNQcz_oAdxf-"
   },
   "source": [
    "EXPLARATORY DATA ANALYSIS"
   ]
  },
  {
   "cell_type": "code",
   "execution_count": 3,
   "metadata": {
    "colab": {
     "base_uri": "https://localhost:8080/"
    },
    "id": "Dz__IAbrePjO",
    "outputId": "2365059c-9d2e-404b-c735-67b867ddd396"
   },
   "outputs": [],
   "source": [
    "# from google.colab import drive\n",
    "# drive.mount('/content/drive')"
   ]
  },
  {
   "cell_type": "code",
   "execution_count": 4,
   "metadata": {
    "colab": {
     "base_uri": "https://localhost:8080/",
     "height": 206
    },
    "id": "uR0V4C4giEpQ",
    "outputId": "fc6eaceb-8852-444b-83e8-35685d5fef9c"
   },
   "outputs": [
    {
     "data": {
      "text/html": [
       "<div>\n",
       "<style scoped>\n",
       "    .dataframe tbody tr th:only-of-type {\n",
       "        vertical-align: middle;\n",
       "    }\n",
       "\n",
       "    .dataframe tbody tr th {\n",
       "        vertical-align: top;\n",
       "    }\n",
       "\n",
       "    .dataframe thead th {\n",
       "        text-align: right;\n",
       "    }\n",
       "</style>\n",
       "<table border=\"1\" class=\"dataframe\">\n",
       "  <thead>\n",
       "    <tr style=\"text-align: right;\">\n",
       "      <th></th>\n",
       "      <th>Engine rpm</th>\n",
       "      <th>Lub oil pressure</th>\n",
       "      <th>Fuel pressure</th>\n",
       "      <th>Coolant pressure</th>\n",
       "      <th>lub oil temp</th>\n",
       "      <th>Coolant temp</th>\n",
       "      <th>Engine Condition</th>\n",
       "    </tr>\n",
       "  </thead>\n",
       "  <tbody>\n",
       "    <tr>\n",
       "      <td>0</td>\n",
       "      <td>700</td>\n",
       "      <td>2.493592</td>\n",
       "      <td>11.790927</td>\n",
       "      <td>3.178981</td>\n",
       "      <td>84.144163</td>\n",
       "      <td>81.632187</td>\n",
       "      <td>1</td>\n",
       "    </tr>\n",
       "    <tr>\n",
       "      <td>1</td>\n",
       "      <td>876</td>\n",
       "      <td>2.941606</td>\n",
       "      <td>16.193866</td>\n",
       "      <td>2.464504</td>\n",
       "      <td>77.640934</td>\n",
       "      <td>82.445724</td>\n",
       "      <td>0</td>\n",
       "    </tr>\n",
       "    <tr>\n",
       "      <td>2</td>\n",
       "      <td>520</td>\n",
       "      <td>2.961746</td>\n",
       "      <td>6.553147</td>\n",
       "      <td>1.064347</td>\n",
       "      <td>77.752266</td>\n",
       "      <td>79.645777</td>\n",
       "      <td>1</td>\n",
       "    </tr>\n",
       "    <tr>\n",
       "      <td>3</td>\n",
       "      <td>473</td>\n",
       "      <td>3.707835</td>\n",
       "      <td>19.510172</td>\n",
       "      <td>3.727455</td>\n",
       "      <td>74.129907</td>\n",
       "      <td>71.774629</td>\n",
       "      <td>1</td>\n",
       "    </tr>\n",
       "    <tr>\n",
       "      <td>4</td>\n",
       "      <td>619</td>\n",
       "      <td>5.672919</td>\n",
       "      <td>15.738871</td>\n",
       "      <td>2.052251</td>\n",
       "      <td>78.396989</td>\n",
       "      <td>87.000225</td>\n",
       "      <td>0</td>\n",
       "    </tr>\n",
       "  </tbody>\n",
       "</table>\n",
       "</div>"
      ],
      "text/plain": [
       "   Engine rpm  Lub oil pressure  Fuel pressure  Coolant pressure  \\\n",
       "0         700          2.493592      11.790927          3.178981   \n",
       "1         876          2.941606      16.193866          2.464504   \n",
       "2         520          2.961746       6.553147          1.064347   \n",
       "3         473          3.707835      19.510172          3.727455   \n",
       "4         619          5.672919      15.738871          2.052251   \n",
       "\n",
       "   lub oil temp  Coolant temp  Engine Condition  \n",
       "0     84.144163     81.632187                 1  \n",
       "1     77.640934     82.445724                 0  \n",
       "2     77.752266     79.645777                 1  \n",
       "3     74.129907     71.774629                 1  \n",
       "4     78.396989     87.000225                 0  "
      ]
     },
     "execution_count": 4,
     "metadata": {},
     "output_type": "execute_result"
    }
   ],
   "source": [
    "df = pd.read_csv('engine_data.csv')\n",
    "#previewdataset\n",
    "df.head(5)"
   ]
  },
  {
   "cell_type": "code",
   "execution_count": 5,
   "metadata": {
    "colab": {
     "base_uri": "https://localhost:8080/"
    },
    "id": "KdPihtWIhWWl",
    "outputId": "338699fe-6258-453d-f2e6-f7c9aa4157a1"
   },
   "outputs": [
    {
     "data": {
      "text/plain": [
       "(19535, 7)"
      ]
     },
     "execution_count": 5,
     "metadata": {},
     "output_type": "execute_result"
    }
   ],
   "source": [
    "# Check size and shape of datasets\n",
    "df.shape"
   ]
  },
  {
   "cell_type": "code",
   "execution_count": 6,
   "metadata": {
    "colab": {
     "base_uri": "https://localhost:8080/"
    },
    "id": "36_TP7DOi7YV",
    "outputId": "4f4c3963-5ccb-4fa5-dbdd-4ca31fa835e3"
   },
   "outputs": [
    {
     "name": "stdout",
     "output_type": "stream",
     "text": [
      "Missing values per feature:\n",
      "Engine rpm          0\n",
      "Lub oil pressure    0\n",
      "Fuel pressure       0\n",
      "Coolant pressure    0\n",
      "lub oil temp        0\n",
      "Coolant temp        0\n",
      "Engine Condition    0\n",
      "dtype: int64\n"
     ]
    }
   ],
   "source": [
    "# count missing values per feature\n",
    "missing_values = df.isnull().sum()\n",
    "print('Missing values per feature:')\n",
    "print(missing_values)"
   ]
  },
  {
   "cell_type": "code",
   "execution_count": 7,
   "metadata": {
    "colab": {
     "base_uri": "https://localhost:8080/"
    },
    "id": "5Eh4p17Fkb5m",
    "outputId": "aa1efaeb-0fb0-4083-a4fe-2dc11b9f270e"
   },
   "outputs": [
    {
     "name": "stdout",
     "output_type": "stream",
     "text": [
      "Empty DataFrame\n",
      "Columns: [Engine rpm, Lub oil pressure, Fuel pressure, Coolant pressure, lub oil temp, Coolant temp, Engine Condition]\n",
      "Index: []\n"
     ]
    }
   ],
   "source": [
    "#identify duplicated values\n",
    "duplicates=df.duplicated()\n",
    "print(df[duplicates])"
   ]
  },
  {
   "cell_type": "code",
   "execution_count": 8,
   "metadata": {
    "colab": {
     "base_uri": "https://localhost:8080/"
    },
    "id": "aLdpNX-Zk5A6",
    "outputId": "ae01314f-08ac-4ba5-d94a-452fbd59d6df"
   },
   "outputs": [
    {
     "name": "stdout",
     "output_type": "stream",
     "text": [
      "Data types of each feature:\n",
      "Engine rpm            int64\n",
      "Lub oil pressure    float64\n",
      "Fuel pressure       float64\n",
      "Coolant pressure    float64\n",
      "lub oil temp        float64\n",
      "Coolant temp        float64\n",
      "Engine Condition      int64\n",
      "dtype: object\n"
     ]
    }
   ],
   "source": [
    "# check data types of each feature\n",
    "print('Data types of each feature:')\n",
    "print(df.dtypes)"
   ]
  },
  {
   "cell_type": "code",
   "execution_count": 9,
   "metadata": {
    "id": "NPXTEFRtlJ7V"
   },
   "outputs": [],
   "source": [
    "# check for any inconsistent values in categorical features\n",
    "categorical_features = df.select_dtypes(include=['object']).columns.tolist()\n",
    "for feature in categorical_features:\n",
    "    unique_values = df[feature].unique()\n",
    "    if len(unique_values) > 1:\n",
    "        print(f'Inconsistent values found in {feature}:')\n",
    "        print(unique_values)"
   ]
  },
  {
   "cell_type": "code",
   "execution_count": 10,
   "metadata": {
    "colab": {
     "base_uri": "https://localhost:8080/"
    },
    "id": "LIEX-4WOlZsP",
    "outputId": "2678f3a4-4cfe-4bdc-f98b-be88a6723977"
   },
   "outputs": [
    {
     "name": "stdout",
     "output_type": "stream",
     "text": [
      "Outliers found in Lub oil pressure:\n",
      "       Engine rpm  Lub oil pressure  Fuel pressure  Coolant pressure  \\\n",
      "397           518          0.143225       8.248790          2.914021   \n",
      "440           945          6.458110       3.353951          1.502761   \n",
      "587           855          0.072615       5.103394          1.492320   \n",
      "632          1521          0.189372       9.035043          3.197902   \n",
      "649           562          0.158712       4.889464          2.750011   \n",
      "...           ...               ...            ...               ...   \n",
      "18055         459          0.192741       6.948251          1.511395   \n",
      "18206        1074          0.139910       3.647008          1.820412   \n",
      "18296         366          0.040510       7.073204          1.770705   \n",
      "18321         504          0.060044       5.258089          2.049384   \n",
      "18336        1470          6.575457       8.037259          1.770325   \n",
      "\n",
      "       lub oil temp  Coolant temp  Engine Condition  \n",
      "397       82.571161     66.807639                 1  \n",
      "440       76.698071     75.435357                 1  \n",
      "587       74.857063     74.388856                 1  \n",
      "632       76.082900     82.796278                 0  \n",
      "649       84.303464     82.334490                 0  \n",
      "...             ...           ...               ...  \n",
      "18055     84.249974     80.614514                 1  \n",
      "18206     77.040370     66.851158                 0  \n",
      "18296     79.307256     66.273848                 1  \n",
      "18321     77.212278     82.538606                 1  \n",
      "18336     79.536807     80.184839                 0  \n",
      "\n",
      "[66 rows x 7 columns]\n",
      "Outliers found in Fuel pressure:\n",
      "       Engine rpm  Lub oil pressure  Fuel pressure  Coolant pressure  \\\n",
      "1             876          2.941606      16.193866          2.464504   \n",
      "3             473          3.707835      19.510172          3.727455   \n",
      "4             619          5.672919      15.738871          2.052251   \n",
      "29            455          4.759290      13.971160          2.448630   \n",
      "32            799          4.634378      12.311909          3.168088   \n",
      "...           ...               ...            ...               ...   \n",
      "19425         767          3.067639      12.085800          1.394180   \n",
      "19447        1807          3.727537      14.140429          4.446769   \n",
      "19474         733          2.918494      12.948286          3.223003   \n",
      "19515         630          2.514225      14.372844          2.282579   \n",
      "19524         972          4.913058      14.660847          2.988643   \n",
      "\n",
      "       lub oil temp  Coolant temp  Engine Condition  \n",
      "1         77.640934     82.445724                 0  \n",
      "3         74.129907     71.774629                 1  \n",
      "4         78.396989     87.000225                 0  \n",
      "29        80.600164     75.811925                 1  \n",
      "32        77.575233     74.083605                 1  \n",
      "...             ...           ...               ...  \n",
      "19425     76.488059     83.367576                 0  \n",
      "19447     77.008190     90.369222                 1  \n",
      "19474     75.233905     74.833670                 1  \n",
      "19515     77.740757     84.109946                 1  \n",
      "19524     76.825739     82.671033                 1  \n",
      "\n",
      "[1135 rows x 7 columns]\n",
      "Outliers found in Coolant pressure:\n",
      "       Engine rpm  Lub oil pressure  Fuel pressure  Coolant pressure  \\\n",
      "53            449          2.181478       5.416653          5.694339   \n",
      "70            748          2.753083       5.715725          5.261252   \n",
      "80            664          3.978488       7.537095          4.853973   \n",
      "188           963          2.705883       7.155380          6.151323   \n",
      "194           896          2.687259       5.106727          4.868988   \n",
      "...           ...               ...            ...               ...   \n",
      "19460         789          2.880693       5.337163          5.843807   \n",
      "19506         846          3.158403       8.579341          6.304726   \n",
      "19517        1021          3.858196       5.002131          4.750641   \n",
      "19519         400          2.119023       6.841695          5.040924   \n",
      "19531         694          4.817720      10.866701          6.186689   \n",
      "\n",
      "       lub oil temp  Coolant temp  Engine Condition  \n",
      "53        83.360674     82.143068                 0  \n",
      "70        75.185275     79.106913                 1  \n",
      "80        76.412867     84.565464                 1  \n",
      "188       77.369788     75.416508                 0  \n",
      "194       78.351611     79.077733                 1  \n",
      "...             ...           ...               ...  \n",
      "19460     76.770311     70.636259                 1  \n",
      "19506     77.350999     75.148105                 1  \n",
      "19517     75.238700     88.881739                 1  \n",
      "19519     76.955464     80.721581                 1  \n",
      "19531     75.281430     74.928459                 1  \n",
      "\n",
      "[785 rows x 7 columns]\n",
      "Outliers found in lub oil temp:\n",
      "       Engine rpm  Lub oil pressure  Fuel pressure  Coolant pressure  \\\n",
      "0             700          2.493592      11.790927          3.178981   \n",
      "6             716          3.568896       5.312266          2.461067   \n",
      "17            767          4.596903       7.496562          1.432776   \n",
      "27            796          4.608552       5.398474          1.846249   \n",
      "33           1348          3.500387       7.286886          1.463265   \n",
      "...           ...               ...            ...               ...   \n",
      "19508         768          1.824641       7.674013          2.842899   \n",
      "19510         747          3.121895       4.253208          1.979472   \n",
      "19513         587          3.414580       7.009809          3.407204   \n",
      "19520         585          4.936251       6.469440          1.261866   \n",
      "19521        1011          5.085095       5.451618          1.362200   \n",
      "\n",
      "       lub oil temp  Coolant temp  Engine Condition  \n",
      "0         84.144163     81.632187                 1  \n",
      "6         83.646589     79.792411                 1  \n",
      "17        84.924143     80.265515                 0  \n",
      "27        83.337290     77.379750                 0  \n",
      "33        84.473753     81.491406                 1  \n",
      "...             ...           ...               ...  \n",
      "19508     85.336140     76.485500                 1  \n",
      "19510     88.878872     87.505113                 0  \n",
      "19513     83.104510     74.211612                 1  \n",
      "19520     87.631820     74.329189                 1  \n",
      "19521     83.722624     74.444864                 1  \n",
      "\n",
      "[2617 rows x 7 columns]\n",
      "Outliers found in Coolant temp:\n",
      "       Engine rpm  Lub oil pressure  Fuel pressure  Coolant pressure  \\\n",
      "2423          455          2.010802       7.806127          1.619575   \n",
      "15123         760          4.908028       2.594570          1.747730   \n",
      "\n",
      "       lub oil temp  Coolant temp  Engine Condition  \n",
      "2423      76.519385    195.527912                 1  \n",
      "15123     77.873482    118.371957                 0  \n"
     ]
    }
   ],
   "source": [
    "# check for any outliers in numeric features\n",
    "numeric_features = df.select_dtypes(include=['int', 'float']).columns.tolist()\n",
    "for feature in numeric_features:\n",
    "    q1 = df[feature].quantile(0.25)\n",
    "    q3 = df[feature].quantile(0.75)\n",
    "    iqr = q3 - q1\n",
    "    lower_bound = q1 - (1.5 * iqr)\n",
    "    upper_bound = q3 + (1.5 * iqr)\n",
    "    outliers = df[(df[feature] < lower_bound) | (df[feature] > upper_bound)]\n",
    "    if not outliers.empty:\n",
    "        print(f'Outliers found in {feature}:')\n",
    "        print(outliers)"
   ]
  },
  {
   "cell_type": "code",
   "execution_count": 11,
   "metadata": {
    "colab": {
     "base_uri": "https://localhost:8080/"
    },
    "id": "D3T0GOjPnlsV",
    "outputId": "aa0b243b-e5c0-4eb3-d688-c84802dfb4ed"
   },
   "outputs": [
    {
     "name": "stdout",
     "output_type": "stream",
     "text": [
      "Original data:\n",
      " [[700.           2.49359182  11.79092738 ...  84.14416293  81.6321865\n",
      "    1.        ]\n",
      " [876.           2.94160593  16.19386556 ...  77.64093415  82.4457245\n",
      "    0.        ]\n",
      " [520.           2.96174558   6.55314691 ...  77.75226574  79.64577667\n",
      "    1.        ]\n",
      " ...\n",
      " [684.           2.67334447   4.92737579 ...  76.84493964  86.33734527\n",
      "    1.        ]\n",
      " [696.           3.09416337   8.29181555 ...  77.17969299  73.62439552\n",
      "    1.        ]\n",
      " [504.           3.77524598   3.96248044 ...  75.56431251  80.42142145\n",
      "    1.        ]]\n",
      "\n",
      "Robust scaled data:\n",
      " [[-0.13489736 -0.43505478  1.97632087 ...  3.12350749  0.36424919\n",
      "   0.        ]\n",
      " [ 0.38123167 -0.14346565  3.53318168 ...  0.35110358  0.45444197\n",
      "  -1.        ]\n",
      " [-0.6627566  -0.13035779  0.12426326 ...  0.39856556  0.14402613\n",
      "   0.        ]\n",
      " ...\n",
      " [-0.18181818 -0.31806311 -0.45060271 ...  0.01176163  0.88588597\n",
      "   0.        ]\n",
      " [-0.14662757 -0.04417393  0.73904933 ...  0.15447098 -0.52353346\n",
      "   0.        ]\n",
      " [-0.70967742  0.3991074  -0.79178573 ... -0.53418497  0.23001789\n",
      "   0.        ]]\n"
     ]
    }
   ],
   "source": [
    "from sklearn.preprocessing import RobustScaler\n",
    "# convert the DataFrame to a numpy array\n",
    "data = df.to_numpy()\n",
    "\n",
    "# create the scaler object\n",
    "scaler = RobustScaler()\n",
    "\n",
    "# fit and transform the data\n",
    "robust_data = scaler.fit_transform(data)\n",
    "\n",
    "# print the original and robust scaled data\n",
    "print(\"Original data:\\n\", data)\n",
    "print(\"\\nRobust scaled data:\\n\", robust_data)"
   ]
  },
  {
   "cell_type": "code",
   "execution_count": 12,
   "metadata": {
    "colab": {
     "base_uri": "https://localhost:8080/"
    },
    "id": "ZAlcAKrAtWlr",
    "outputId": "e745cbc0-bf95-4e37-9b55-31f55fc7a2eb"
   },
   "outputs": [
    {
     "name": "stdout",
     "output_type": "stream",
     "text": [
      "            feature  importance\n",
      "0        Engine rpm    0.585820\n",
      "2     Fuel pressure    0.160589\n",
      "4      lub oil temp    0.102232\n",
      "1  Lub oil pressure    0.076013\n",
      "3  Coolant pressure    0.042967\n",
      "5      Coolant temp    0.032378\n"
     ]
    }
   ],
   "source": [
    "# Separate target variable and features\n",
    "df = pd.DataFrame(data, columns=['Engine rpm','Lub oil pressure','Fuel pressure','Coolant pressure','lub oil temp','Coolant temp','Engine Condition'])\n",
    "X = df.drop('Engine Condition', axis=1)\n",
    "y = df['Engine Condition']\n",
    "\n",
    "# Fit the Gradient Boosting Classifier on the data\n",
    "model = GradientBoostingClassifier()\n",
    "model.fit(X, y)\n",
    "\n",
    "# Get the feature importances and sort in descending order\n",
    "feature_importances = pd.DataFrame({'feature': X.columns, 'importance': model.feature_importances_}).sort_values('importance', ascending=False)\n",
    "\n",
    "# Print the sorted feature importances\n",
    "print(feature_importances)"
   ]
  },
  {
   "cell_type": "code",
   "execution_count": 13,
   "metadata": {
    "colab": {
     "base_uri": "https://localhost:8080/",
     "height": 727
    },
    "id": "qfpp3qcEvo1X",
    "outputId": "0ceb61ac-fbf5-498f-e713-31f3b789225c"
   },
   "outputs": [
    {
     "data": {
      "image/png": "[encoded data removed]",
      "text/plain": [
       "<Figure size 720x576 with 1 Axes>"
      ]
     },
     "metadata": {
      "needs_background": "light"
     },
     "output_type": "display_data"
    }
   ],
   "source": [
    "\n",
    "# Convert numpy array to pandas DataFrame\n",
    "df = pd.DataFrame(data, columns=['Engine rpm','Lub oil pressure','Fuel pressure','Coolant pressure','lub oil temp','Coolant temp','Engine Condition'])\n",
    "\n",
    "# Separate the features and target variable\n",
    "X = df.iloc[:, :-1]\n",
    "y = df.iloc[:, -1]\n",
    "\n",
    "# Create an instance of the ExtraTreesClassifier algorithm\n",
    "model = ExtraTreesClassifier()\n",
    "\n",
    "# Fit the model on the data\n",
    "model.fit(X, y)\n",
    "\n",
    "# Get the feature importance scores\n",
    "importances = model.feature_importances_\n",
    "\n",
    "# Sort the feature importance scores in descending order\n",
    "sorted_importances = sorted(zip(importances, X.columns), reverse=True)\n",
    "\n",
    "# Select the top 7 features\n",
    "best_features = [feature[1] for feature in sorted_importances[:7]]\n",
    "\n",
    "# Plot the feature importance scores of the top 7 features\n",
    "plt.figure(figsize=(10, 8))\n",
    "plt.barh(range(len(best_features)), [importances[X.columns.get_loc(feature)] for feature in best_features], align='center')\n",
    "plt.yticks(range(len(best_features)), best_features)\n",
    "plt.xlabel('Feature Importance Scores')\n",
    "plt.ylabel('Features')\n",
    "plt.title('Top Important Features')\n",
    "plt.show()"
   ]
  },
  {
   "cell_type": "code",
   "execution_count": 14,
   "metadata": {
    "colab": {
     "base_uri": "https://localhost:8080/"
    },
    "id": "cvOV_SYZyp32",
    "outputId": "e3ca7d2c-4c9a-4585-9945-90b9ee325da2"
   },
   "outputs": [
    {
     "name": "stdout",
     "output_type": "stream",
     "text": [
      "1.0    12317\n",
      "0.0     7218\n",
      "Name: Engine Condition, dtype: int64\n"
     ]
    }
   ],
   "source": [
    "# Count the number of 0s and 1s\n",
    "count = df['Engine Condition'].value_counts()\n",
    "print(count)\n",
    "#print(\"Good Condition:\", count[1])\n",
    "#print(\"Bad Condition:\", count[0])"
   ]
  },
  {
   "cell_type": "markdown",
   "metadata": {
    "id": "ZUd5iy_XpjgV"
   },
   "source": [
    "**Important**\n",
    "\n",
    "\n",
    "*   There is binary encoding to the target variable\n",
    "    0: Bad Condition\n",
    "    1: Good Condition\n",
    "\n"
   ]
  },
  {
   "cell_type": "code",
   "execution_count": 15,
   "metadata": {
    "colab": {
     "base_uri": "https://localhost:8080/",
     "height": 573
    },
    "id": "rnbyylQszAft",
    "outputId": "2013c017-8c92-4a18-9547-ecfc44d027bb"
   },
   "outputs": [
    {
     "data": {
      "image/png": "[encoded data removed]",
      "text/plain": [
       "<Figure size 864x432 with 1 Axes>"
      ]
     },
     "metadata": {},
     "output_type": "display_data"
    }
   ],
   "source": [
    "# A box plot showing target variable distribution\n",
    "sns.set_style('darkgrid')\n",
    "plt.figure(figsize=(12, 6))\n",
    "sns.countplot(x = 'Engine Condition', data = df)\n",
    "plt.title('Target Variable Distribution')\n",
    "plt.show()"
   ]
  },
  {
   "cell_type": "code",
   "execution_count": 16,
   "metadata": {
    "colab": {
     "base_uri": "https://localhost:8080/"
    },
    "id": "GhYIsFmmfvsn",
    "outputId": "93a403f0-6207-4c10-e08f-4fa2dfd6b6ab"
   },
   "outputs": [
    {
     "name": "stdout",
     "output_type": "stream",
     "text": [
      "The recall score for RFC using RandomUnderSampler() is 0.599 (+/- 0.02)\n",
      "The recall score for RFC using RandomOverSampler() is 0.707 (+/- 0.02)\n",
      "The recall score for RFC using SMOTE() is 0.652 (+/- 0.01)\n"
     ]
    }
   ],
   "source": [
    "undersampler = RandomUnderSampler()\n",
    "oversampler = RandomOverSampler()\n",
    "smote = SMOTE()\n",
    "samplers = [undersampler, oversampler, smote]\n",
    "\n",
    "model = RandomForestClassifier()\n",
    "def train_model_on_sampling_techniques(model, samplers, X, y):\n",
    "    for sampler in samplers:\n",
    "        X_train, y_train = sampler.fit_resample(X, y)\n",
    "        pipeline = make_pipeline(StandardScaler(), model)\n",
    "        scores = cross_val_score(pipeline, X_train, y_train, scoring='recall')\n",
    "        print(\"The recall score for RFC using {0} is {1} (+/- {2})\".format(str(sampler), round(scores.mean(), 3), round(scores.std(), 2)))\n",
    "\n",
    "train_model_on_sampling_techniques(model, samplers, X, y)"
   ]
  },
  {
   "cell_type": "code",
   "execution_count": 17,
   "metadata": {
    "colab": {
     "base_uri": "https://localhost:8080/",
     "height": 424
    },
    "id": "yXveUmFK2ABt",
    "outputId": "e34ccf0c-8932-4f23-edc3-ecc5070584c7"
   },
   "outputs": [
    {
     "data": {
      "text/html": [
       "<div>\n",
       "<style scoped>\n",
       "    .dataframe tbody tr th:only-of-type {\n",
       "        vertical-align: middle;\n",
       "    }\n",
       "\n",
       "    .dataframe tbody tr th {\n",
       "        vertical-align: top;\n",
       "    }\n",
       "\n",
       "    .dataframe thead th {\n",
       "        text-align: right;\n",
       "    }\n",
       "</style>\n",
       "<table border=\"1\" class=\"dataframe\">\n",
       "  <thead>\n",
       "    <tr style=\"text-align: right;\">\n",
       "      <th></th>\n",
       "      <th>Engine rpm</th>\n",
       "      <th>Lub oil pressure</th>\n",
       "      <th>Fuel pressure</th>\n",
       "      <th>Coolant pressure</th>\n",
       "      <th>lub oil temp</th>\n",
       "      <th>Coolant temp</th>\n",
       "      <th>Engine Condition</th>\n",
       "    </tr>\n",
       "  </thead>\n",
       "  <tbody>\n",
       "    <tr>\n",
       "      <td>0</td>\n",
       "      <td>700.0</td>\n",
       "      <td>2.493592</td>\n",
       "      <td>11.790927</td>\n",
       "      <td>3.178981</td>\n",
       "      <td>84.144163</td>\n",
       "      <td>81.632187</td>\n",
       "      <td>1.0</td>\n",
       "    </tr>\n",
       "    <tr>\n",
       "      <td>1</td>\n",
       "      <td>876.0</td>\n",
       "      <td>2.941606</td>\n",
       "      <td>16.193866</td>\n",
       "      <td>2.464504</td>\n",
       "      <td>77.640934</td>\n",
       "      <td>82.445724</td>\n",
       "      <td>0.0</td>\n",
       "    </tr>\n",
       "    <tr>\n",
       "      <td>2</td>\n",
       "      <td>520.0</td>\n",
       "      <td>2.961746</td>\n",
       "      <td>6.553147</td>\n",
       "      <td>1.064347</td>\n",
       "      <td>77.752266</td>\n",
       "      <td>79.645777</td>\n",
       "      <td>1.0</td>\n",
       "    </tr>\n",
       "    <tr>\n",
       "      <td>3</td>\n",
       "      <td>473.0</td>\n",
       "      <td>3.707835</td>\n",
       "      <td>19.510172</td>\n",
       "      <td>3.727455</td>\n",
       "      <td>74.129907</td>\n",
       "      <td>71.774629</td>\n",
       "      <td>1.0</td>\n",
       "    </tr>\n",
       "    <tr>\n",
       "      <td>4</td>\n",
       "      <td>619.0</td>\n",
       "      <td>5.672919</td>\n",
       "      <td>15.738871</td>\n",
       "      <td>2.052251</td>\n",
       "      <td>78.396989</td>\n",
       "      <td>87.000225</td>\n",
       "      <td>0.0</td>\n",
       "    </tr>\n",
       "    <tr>\n",
       "      <td>...</td>\n",
       "      <td>...</td>\n",
       "      <td>...</td>\n",
       "      <td>...</td>\n",
       "      <td>...</td>\n",
       "      <td>...</td>\n",
       "      <td>...</td>\n",
       "      <td>...</td>\n",
       "    </tr>\n",
       "    <tr>\n",
       "      <td>24629</td>\n",
       "      <td>692.0</td>\n",
       "      <td>4.388338</td>\n",
       "      <td>5.776997</td>\n",
       "      <td>2.871171</td>\n",
       "      <td>80.339260</td>\n",
       "      <td>74.978786</td>\n",
       "      <td>0.0</td>\n",
       "    </tr>\n",
       "    <tr>\n",
       "      <td>24630</td>\n",
       "      <td>1163.0</td>\n",
       "      <td>3.563582</td>\n",
       "      <td>4.430761</td>\n",
       "      <td>1.299133</td>\n",
       "      <td>76.032517</td>\n",
       "      <td>82.955535</td>\n",
       "      <td>0.0</td>\n",
       "    </tr>\n",
       "    <tr>\n",
       "      <td>24631</td>\n",
       "      <td>722.0</td>\n",
       "      <td>1.951985</td>\n",
       "      <td>3.718977</td>\n",
       "      <td>1.436095</td>\n",
       "      <td>77.672513</td>\n",
       "      <td>77.612884</td>\n",
       "      <td>0.0</td>\n",
       "    </tr>\n",
       "    <tr>\n",
       "      <td>24632</td>\n",
       "      <td>875.0</td>\n",
       "      <td>3.225740</td>\n",
       "      <td>6.217433</td>\n",
       "      <td>2.223079</td>\n",
       "      <td>78.049561</td>\n",
       "      <td>73.712487</td>\n",
       "      <td>0.0</td>\n",
       "    </tr>\n",
       "    <tr>\n",
       "      <td>24633</td>\n",
       "      <td>1009.0</td>\n",
       "      <td>2.175490</td>\n",
       "      <td>4.708390</td>\n",
       "      <td>3.123409</td>\n",
       "      <td>76.111913</td>\n",
       "      <td>81.148162</td>\n",
       "      <td>0.0</td>\n",
       "    </tr>\n",
       "  </tbody>\n",
       "</table>\n",
       "<p>24634 rows × 7 columns</p>\n",
       "</div>"
      ],
      "text/plain": [
       "       Engine rpm  Lub oil pressure  Fuel pressure  Coolant pressure  \\\n",
       "0           700.0          2.493592      11.790927          3.178981   \n",
       "1           876.0          2.941606      16.193866          2.464504   \n",
       "2           520.0          2.961746       6.553147          1.064347   \n",
       "3           473.0          3.707835      19.510172          3.727455   \n",
       "4           619.0          5.672919      15.738871          2.052251   \n",
       "...           ...               ...            ...               ...   \n",
       "24629       692.0          4.388338       5.776997          2.871171   \n",
       "24630      1163.0          3.563582       4.430761          1.299133   \n",
       "24631       722.0          1.951985       3.718977          1.436095   \n",
       "24632       875.0          3.225740       6.217433          2.223079   \n",
       "24633      1009.0          2.175490       4.708390          3.123409   \n",
       "\n",
       "       lub oil temp  Coolant temp  Engine Condition  \n",
       "0         84.144163     81.632187               1.0  \n",
       "1         77.640934     82.445724               0.0  \n",
       "2         77.752266     79.645777               1.0  \n",
       "3         74.129907     71.774629               1.0  \n",
       "4         78.396989     87.000225               0.0  \n",
       "...             ...           ...               ...  \n",
       "24629     80.339260     74.978786               0.0  \n",
       "24630     76.032517     82.955535               0.0  \n",
       "24631     77.672513     77.612884               0.0  \n",
       "24632     78.049561     73.712487               0.0  \n",
       "24633     76.111913     81.148162               0.0  \n",
       "\n",
       "[24634 rows x 7 columns]"
      ]
     },
     "execution_count": 17,
     "metadata": {},
     "output_type": "execute_result"
    }
   ],
   "source": [
    "#oversampling\n",
    "rus = RandomOverSampler(sampling_strategy=1)\n",
    "X_train_res,y_train_res = rus.fit_resample(X,y)\n",
    "x = pd.DataFrame(X_train_res)\n",
    "y = pd.DataFrame(y_train_res)\n",
    "\n",
    "data = pd.concat([x,y], axis = 1)\n",
    "data"
   ]
  },
  {
   "cell_type": "code",
   "execution_count": 18,
   "metadata": {},
   "outputs": [
    {
     "name": "stdout",
     "output_type": "stream",
     "text": [
      "(24634, 6) (24634,)\n"
     ]
    }
   ],
   "source": [
    "print(X_train_res.shape,y_train_res.shape)"
   ]
  },
  {
   "cell_type": "code",
   "execution_count": 19,
   "metadata": {
    "colab": {
     "base_uri": "https://localhost:8080/",
     "height": 573
    },
    "id": "mcJn7SnJ2Twj",
    "outputId": "519c15b4-4015-458d-a14d-39fe909e5fba"
   },
   "outputs": [
    {
     "data": {
      "image/png": "[encoded data removed]",
      "text/plain": [
       "<Figure size 864x432 with 1 Axes>"
      ]
     },
     "metadata": {},
     "output_type": "display_data"
    }
   ],
   "source": [
    "# A box plot showing oversampled target variable distribution\n",
    "sns.set_style('darkgrid')\n",
    "plt.figure(figsize=(12, 6))\n",
    "sns.countplot(x = 'Engine Condition', data = data)\n",
    "plt.title('Target Variable Distribution')\n",
    "plt.show()"
   ]
  },
  {
   "cell_type": "code",
   "execution_count": 20,
   "metadata": {
    "colab": {
     "base_uri": "https://localhost:8080/",
     "height": 1000
    },
    "id": "zPL82BEn2fGY",
    "outputId": "ff2002ef-b3bf-4b57-d870-6e3cea60da7b"
   },
   "outputs": [
    {
     "data": {
      "image/png": "[encoded data removed]",
      "text/plain": [
       "<Figure size 1080x864 with 2 Axes>"
      ]
     },
     "metadata": {},
     "output_type": "display_data"
    }
   ],
   "source": [
    "df = pd.DataFrame(data, columns=['Engine rpm','Lub oil pressure','Fuel pressure','Coolant pressure','lub oil temp','Coolant temp','Engine Condition'])\n",
    "\n",
    "# Compute the correlation matrix\n",
    "correlation_matrix = df.corr()\n",
    "\n",
    "# Generate a mask for the upper triangle\n",
    "mask = np.triu(np.ones_like(correlation_matrix, dtype=bool))\n",
    "\n",
    "# Set up the matplotlib figure\n",
    "fig, ax = plt.subplots(figsize=(15, 12))\n",
    "\n",
    "# Generate the correlation heatmap\n",
    "sns.heatmap(correlation_matrix, mask=mask, annot=True, fmt=\".2f\", cmap=\"coolwarm\", cbar=True, ax=ax)\n",
    "\n",
    "# Set the plot title\n",
    "plt.title(\"Correlation Heatmap\")\n",
    "\n",
    "# Show the plot\n",
    "plt.show()"
   ]
  },
  {
   "cell_type": "code",
   "execution_count": 21,
   "metadata": {
    "colab": {
     "base_uri": "https://localhost:8080/",
     "height": 1000
    },
    "id": "4sezYSER4CMZ",
    "outputId": "208346d5-64cf-497a-a9f5-f7bc23674f2d"
   },
   "outputs": [
    {
     "data": {
      "image/png": "[encoded data removed]",
      "text/plain": [
       "<Figure size 1080x864 with 2 Axes>"
      ]
     },
     "metadata": {},
     "output_type": "display_data"
    }
   ],
   "source": [
    "df = pd.DataFrame(data, columns=['Engine rpm','Lub oil pressure','Fuel pressure','Coolant pressure','lub oil temp','Coolant temp'])\n",
    "\n",
    "# Compute the correlation matrix\n",
    "correlation_matrix = df.corr()\n",
    "\n",
    "# Generate a mask for the upper triangle\n",
    "mask = np.triu(np.ones_like(correlation_matrix, dtype=bool))\n",
    "\n",
    "# Set up the matplotlib figure\n",
    "fig, ax = plt.subplots(figsize=(15, 12))\n",
    "\n",
    "# Generate the correlation heatmap\n",
    "sns.heatmap(correlation_matrix, mask=mask, annot=True, fmt=\".2f\", cmap=\"coolwarm\", cbar=True, ax=ax)\n",
    "\n",
    "# Set the plot title\n",
    "plt.title(\"Correlation Heatmap\")\n",
    "\n",
    "# Show the plot\n",
    "plt.show()"
   ]
  },
  {
   "cell_type": "markdown",
   "metadata": {
    "id": "eEcdh5m-gA8L"
   },
   "source": [
    "Data Split"
   ]
  },
  {
   "cell_type": "code",
   "execution_count": 22,
   "metadata": {
    "colab": {
     "base_uri": "https://localhost:8080/"
    },
    "id": "28Jj18LN4cIq",
    "outputId": "6c34f442-0e61-493c-ef3d-f20f22050026"
   },
   "outputs": [],
   "source": [
    "# # Load your dataset\n",
    "# df = pd.DataFrame(data, columns=['Engine rpm','Lub oil pressure','Fuel pressure','Coolant pressure','lub oil temp','Coolant temp','Engine Condition'])\n",
    "\n",
    "# # Split the data into training and testing sets (with 80% of the data for training)\n",
    "# train_data, test_data = train_test_split(df, test_size=0.2, random_state=42)\n",
    "\n",
    "# # Show the number of rows and columns in each set\n",
    "# print(\"Training set shape:\",train_data.shape)\n",
    "# print(\"Testing set shape:\",test_data.shape)"
   ]
  },
  {
   "cell_type": "code",
   "execution_count": 23,
   "metadata": {},
   "outputs": [
    {
     "name": "stdout",
     "output_type": "stream",
     "text": [
      "Training set shape: (19707, 6)\n",
      "Testing set shape: (4927,)\n"
     ]
    }
   ],
   "source": [
    "X_train, X_test, y_train, y_test = train_test_split(X_train_res, y_train_res, test_size = 0.2, random_state = 42)\n",
    "\n",
    "#Show the number of rows and columns in each set\n",
    "print(\"Training set shape:\",X_train.shape)\n",
    "print(\"Testing set shape:\",y_test.shape)"
   ]
  },
  {
   "cell_type": "markdown",
   "metadata": {
    "id": "7LBygfZQgHwt"
   },
   "source": [
    "MODELLING"
   ]
  },
  {
   "cell_type": "markdown",
   "metadata": {
    "id": "kh6MH68TgYkD"
   },
   "source": [
    "Random Forest Classifier"
   ]
  },
  {
   "cell_type": "code",
   "execution_count": 24,
   "metadata": {
    "colab": {
     "base_uri": "https://localhost:8080/",
     "height": 774
    },
    "id": "n8regrxLszN5",
    "outputId": "472d548f-9425-47d6-9ed9-144a836df2b1"
   },
   "outputs": [
    {
     "name": "stdout",
     "output_type": "stream",
     "text": [
      "\n",
      "Classification Report :  \n",
      "               precision    recall  f1-score   support\n",
      "\n",
      "         0.0       0.74      0.83      0.79      2448\n",
      "         1.0       0.81      0.72      0.76      2479\n",
      "\n",
      "    accuracy                           0.77      4927\n",
      "   macro avg       0.78      0.77      0.77      4927\n",
      "weighted avg       0.78      0.77      0.77      4927\n",
      "\n",
      "\n",
      "ACCURACY OF THE MODEL:  0.7745078140856505\n",
      "[[1778  701]\n",
      " [ 410 2038]]\n"
     ]
    },
    {
     "data": {
      "image/png": "[encoded data removed]",
      "text/plain": [
       "<Figure size 432x432 with 2 Axes>"
      ]
     },
     "metadata": {},
     "output_type": "display_data"
    }
   ],
   "source": [
    "# creating a RF classifier\n",
    "model = RandomForestClassifier(n_estimators = 100, random_state=42)\n",
    "\n",
    "# Training the model on the training dataset\n",
    "# fit function is used to train the model using the training sets as parameters\n",
    "model.fit(X_train,y_train)\n",
    "\n",
    "# performing predictions on the test dataset\n",
    "rfc_pred = model.predict(X_test)\n",
    "print('\\nClassification Report : ','\\n',classification_report(y_test, rfc_pred))\n",
    "\n",
    "# metrics are used to find accuracy or error\n",
    "from sklearn import metrics\n",
    "print()\n",
    "\n",
    "# using metrics module for accuracy calculation\n",
    "print(\"ACCURACY OF THE MODEL: \", metrics.accuracy_score(y_test, rfc_pred))\n",
    "\n",
    "print(confusion_matrix(y_test,rfc_pred,labels=[1,0]))\n",
    "sns.set(rc = {\"figure.figsize\":(6,6)})\n",
    "disp = metrics.ConfusionMatrixDisplay.from_predictions(y_test,rfc_pred,labels=(1,0),normalize=None,cmap='Blues')\n",
    "disp.ax_.grid(False)\n",
    "plt.ylabel(\"True Values\")\n",
    "plt.xlabel(\"Predicted Values\")\n",
    "plt.title(\"CONFUSION MATRIX\")\n",
    "plt.show()"
   ]
  },
  {
   "cell_type": "code",
   "execution_count": 25,
   "metadata": {
    "colab": {
     "base_uri": "https://localhost:8080/"
    },
    "id": "G0gpDn5gua1-",
    "outputId": "4bb8b0cc-743b-4e14-89ab-585b2aa4e957"
   },
   "outputs": [
    {
     "name": "stdout",
     "output_type": "stream",
     "text": [
      "ROC_AUC value : 0.878029285870594 \n",
      "\n"
     ]
    },
    {
     "data": {
      "image/png": "[encoded data removed]",
      "text/plain": [
       "<Figure size 1800x1152 with 1 Axes>"
      ]
     },
     "metadata": {},
     "output_type": "display_data"
    }
   ],
   "source": [
    "plt.figure(figsize=(25,16))\n",
    "Y_predict1_proba = model.predict_proba(X_test)\n",
    "Y_predict1_proba = Y_predict1_proba[:, 1]\n",
    "fpr, tpr, thresholds = roc_curve(y_test, Y_predict1_proba)\n",
    "roc_auc = metrics.auc(fpr, tpr)\n",
    "print('ROC_AUC value :',roc_auc,'\\n')\n",
    "\n",
    "plt.subplot(441)\n",
    "plt.plot(fpr, tpr, 'b', label = 'AUC = %0.2f' % roc_auc)\n",
    "plt.legend(loc = 'lower right')\n",
    "plt.plot([0,1],[0,1],'k--')\n",
    "plt.plot(fpr,tpr, label='ANN')\n",
    "plt.ylabel('True Positive Rate (TPR)')\n",
    "plt.xlabel('False Positive Rate (FPR)')\n",
    "plt.title('AUC Curve Random Forest Classifier')\n",
    "plt.grid(True)\n",
    "plt.show()\n"
   ]
  },
  {
   "cell_type": "markdown",
   "metadata": {
    "id": "cTk2uxuZ4_TC"
   },
   "source": [
    "Deep Neuron Network"
   ]
  },
  {
   "cell_type": "code",
   "execution_count": 26,
   "metadata": {
    "colab": {
     "base_uri": "https://localhost:8080/"
    },
    "id": "XAcU3P_0437F",
    "outputId": "94721774-2f73-4b2a-9455-2515b57e591f"
   },
   "outputs": [],
   "source": [
    "# # Split the data into training and test sets\n",
    "# train_data, test_data = train_test_split(data, test_size=0.2)\n",
    "\n",
    "# # Split the training and test sets into features and labels\n",
    "# X_train = train_data.drop('Engine Condition', axis=1).values\n",
    "# y_train = train_data['Engine Condition'].values\n",
    "# X_test = test_data.drop('Engine Condition', axis=1).values\n",
    "# y_test = test_data['Engine Condition'].values\n",
    "\n",
    "# # Preprocess the data\n",
    "# X_train = X_train / 255.0\n",
    "# X_test = X_test / 255.0\n",
    "\n",
    "# # Define the model architecture\n",
    "# model = keras.Sequential([\n",
    "#     keras.layers.Dense(512, activation='relu', input_shape=(6,)),\n",
    "#     keras.layers.Dropout(0.2),\n",
    "#     keras.layers.Dense(256, activation='relu'),\n",
    "#     keras.layers.Dropout(0.2),\n",
    "#     keras.layers.Dense(128, activation='relu'),\n",
    "#     keras.layers.Dropout(0.2),\n",
    "#     keras.layers.Dense(10, activation='softmax')\n",
    "# ])\n",
    "\n",
    "# # Compile the model\n",
    "# model.compile(optimizer='adam', loss='sparse_categorical_crossentropy', metrics=['accuracy'])\n",
    "\n",
    "# # Train the model on the training data\n",
    "# model.fit(X_train, y_train, epochs=5)\n",
    "\n",
    "# # Evaluate the model on test data\n",
    "# test_loss, test_acc = model.evaluate(X_test, y_test, verbose=0)\n",
    "# print('Test accuracy:', test_acc)\n"
   ]
  },
  {
   "cell_type": "markdown",
   "metadata": {
    "id": "kbE0aw6YGv6F"
   },
   "source": [
    "Multi-layer Perceptron Model"
   ]
  },
  {
   "cell_type": "code",
   "execution_count": 27,
   "metadata": {
    "colab": {
     "base_uri": "https://localhost:8080/",
     "height": 765
    },
    "id": "NLX72ddVHPuv",
    "outputId": "da803a7e-7b0c-4258-a4ca-8d6d3d1b21f4"
   },
   "outputs": [
    {
     "name": "stdout",
     "output_type": "stream",
     "text": [
      "Accuracy: 0.6137609092754212\n",
      "Accuracy score: 0.6137609092754212\n",
      "Classification report:\n",
      "               precision    recall  f1-score   support\n",
      "\n",
      "         0.0       0.57      0.89      0.70      2448\n",
      "         1.0       0.75      0.34      0.47      2479\n",
      "\n",
      "    accuracy                           0.61      4927\n",
      "   macro avg       0.66      0.62      0.58      4927\n",
      "weighted avg       0.66      0.61      0.58      4927\n",
      "\n",
      "Accuracy: 0.6137609092754212\n",
      "AUC Score: 0.6904492837877386\n",
      "[[ 854 1625]\n",
      " [ 278 2170]]\n"
     ]
    },
    {
     "data": {
      "image/png": "[encoded data removed]",
      "text/plain": [
       "<Figure size 432x432 with 2 Axes>"
      ]
     },
     "metadata": {},
     "output_type": "display_data"
    }
   ],
   "source": [
    "# Define the model and its parameters (in this example, a 3-layer MLP with 100, 50, and 25 neurons in each layer, respectively)\n",
    "mlp = MLPClassifier(hidden_layer_sizes=(100,50,25), max_iter=1000)\n",
    "\n",
    "# Train the model on the training data\n",
    "mlp.fit(X_train, y_train)\n",
    "\n",
    "# Test the model on the testing data and evaluate the accuracy\n",
    "accuracy = mlp.score(X_test, y_test)\n",
    "print(\"Accuracy:\", accuracy)\n",
    "\n",
    "\n",
    "\n",
    "# Test the model on the testing data and evaluate the accuracy, f1 score, precision, and recall\n",
    "mlp_pred = mlp.predict(X_test)\n",
    "# accuracy = mlp.score(X_test, y_test)\n",
    "# print(\"Accuracy:\", accuracy)\n",
    "\n",
    "# Evaluate the performance of the model using accuracy score, classification report, and confusion matrix\n",
    "print(\"Accuracy score:\", accuracy_score(y_test, mlp_pred))\n",
    "print(\"Classification report:\\n\", classification_report(y_test, mlp_pred))\n",
    "\n",
    "\n",
    "\n",
    "# Test the model on the testing data and evaluate the accuracy and AUC score\n",
    "y_pred_proba = mlp.predict_proba(X_test)[:,1]\n",
    "accuracy = mlp.score(X_test, y_test)\n",
    "auc_score = roc_auc_score(y_test, y_pred_proba)\n",
    "print(\"Accuracy:\", accuracy)\n",
    "print(\"AUC Score:\", auc_score)\n",
    "\n",
    "print(confusion_matrix(y_test,mlp_pred,labels=[1,0]))\n",
    "sns.set(rc = {\"figure.figsize\":(6,6)})\n",
    "disp = metrics.ConfusionMatrixDisplay.from_predictions(y_test,mlp_pred,labels=(1,0),normalize=None,cmap='Blues')\n",
    "disp.ax_.grid(False)\n",
    "plt.ylabel(\"True Values\")\n",
    "plt.xlabel(\"Predicted Values\")\n",
    "plt.title(\"CONFUSION MATRIX\")\n",
    "plt.show()\n"
   ]
  },
  {
   "cell_type": "code",
   "execution_count": 28,
   "metadata": {},
   "outputs": [
    {
     "name": "stdout",
     "output_type": "stream",
     "text": [
      "ROC_AUC value : 0.6904492837877386 \n",
      "\n"
     ]
    },
    {
     "data": {
      "image/png": "[encoded data removed]",
      "text/plain": [
       "<Figure size 1800x1152 with 1 Axes>"
      ]
     },
     "metadata": {},
     "output_type": "display_data"
    }
   ],
   "source": [
    "plt.figure(figsize=(25,16))\n",
    "Y_predict1_proba = mlp.predict_proba(X_test)\n",
    "Y_predict1_proba = Y_predict1_proba[:, 1]\n",
    "fpr, tpr, thresholds = roc_curve(y_test, Y_predict1_proba)\n",
    "roc_auc = metrics.auc(fpr, tpr)\n",
    "print('ROC_AUC value :',roc_auc,'\\n')\n",
    "\n",
    "plt.subplot(441)\n",
    "plt.plot(fpr, tpr, 'b', label = 'AUC = %0.2f' % roc_auc)\n",
    "plt.legend(loc = 'lower right')\n",
    "plt.plot([0,1],[0,1],'k--')\n",
    "plt.plot(fpr,tpr, label='ANN')\n",
    "plt.ylabel('True Positive Rate (TPR)')\n",
    "plt.xlabel('False Positive Rate (FPR)')\n",
    "plt.title('AUC Curve Multi-layer Perceptron Model')\n",
    "plt.grid(True)\n",
    "plt.show()"
   ]
  },
  {
   "cell_type": "markdown",
   "metadata": {
    "id": "Hme9OQ4rMcqH"
   },
   "source": [
    "Logistic Regression"
   ]
  },
  {
   "cell_type": "code",
   "execution_count": 29,
   "metadata": {
    "colab": {
     "base_uri": "https://localhost:8080/",
     "height": 765
    },
    "id": "hhcwPIpsMfoD",
    "outputId": "92c34172-9ddb-4da1-9355-33bdcd7c2171"
   },
   "outputs": [
    {
     "name": "stdout",
     "output_type": "stream",
     "text": [
      "Accuracy score: 0.6415668763953725\n",
      "Classification report:\n",
      "               precision    recall  f1-score   support\n",
      "\n",
      "         0.0       0.65      0.62      0.63      2448\n",
      "         1.0       0.64      0.67      0.65      2479\n",
      "\n",
      "    accuracy                           0.64      4927\n",
      "   macro avg       0.64      0.64      0.64      4927\n",
      "weighted avg       0.64      0.64      0.64      4927\n",
      "\n",
      "\n",
      "ACCURACY OF THE MODEL:  0.6415668763953725\n",
      "[[1652  827]\n",
      " [ 939 1509]]\n"
     ]
    },
    {
     "data": {
      "image/png": "[encoded data removed]",
      "text/plain": [
       "<Figure size 432x432 with 2 Axes>"
      ]
     },
     "metadata": {},
     "output_type": "display_data"
    }
   ],
   "source": [
    "# Initialise Logistic Regression model\n",
    "model = LogisticRegression()\n",
    "\n",
    "# Train the model on the training data\n",
    "model.fit(X_train, y_train)\n",
    "\n",
    "# Use the trained model for prediction on the testing data\n",
    "lg_pred = model.predict(X_test)\n",
    "\n",
    "# Evaluate the performance of the model using accuracy score, classification report, and confusion matrix\n",
    "print(\"Accuracy score:\", accuracy_score(y_test, lg_pred))\n",
    "print(\"Classification report:\\n\", classification_report(y_test, lg_pred))\n",
    "\n",
    "# metrics are used to find accuracy or error\n",
    "from sklearn import metrics\n",
    "print()\n",
    "\n",
    "# using metrics module for accuracy calculation\n",
    "print(\"ACCURACY OF THE MODEL: \", metrics.accuracy_score(y_test, lg_pred))\n",
    "\n",
    "print(confusion_matrix(y_test,lg_pred,labels=[1,0]))\n",
    "sns.set(rc = {\"figure.figsize\":(6,6)})\n",
    "disp = metrics.ConfusionMatrixDisplay.from_predictions(y_test,lg_pred,labels=(1,0),normalize=None,cmap='Blues')\n",
    "disp.ax_.grid(False)\n",
    "plt.ylabel(\"True Values\")\n",
    "plt.xlabel(\"Predicted Values\")\n",
    "plt.title(\"CONFUSION MATRIX\")\n",
    "plt.show()"
   ]
  },
  {
   "cell_type": "code",
   "execution_count": 30,
   "metadata": {},
   "outputs": [
    {
     "name": "stdout",
     "output_type": "stream",
     "text": [
      "ROC_AUC value : 0.6862913176565504 \n",
      "\n"
     ]
    },
    {
     "data": {
      "image/png": "[encoded data removed]",
      "text/plain": [
       "<Figure size 1800x1152 with 1 Axes>"
      ]
     },
     "metadata": {},
     "output_type": "display_data"
    }
   ],
   "source": [
    "plt.figure(figsize=(25,16))\n",
    "Y_predict1_proba = model.predict_proba(X_test)\n",
    "Y_predict1_proba = Y_predict1_proba[:, 1]\n",
    "fpr, tpr, thresholds = roc_curve(y_test, Y_predict1_proba)\n",
    "roc_auc = metrics.auc(fpr, tpr)\n",
    "print('ROC_AUC value :',roc_auc,'\\n')\n",
    "\n",
    "plt.subplot(441)\n",
    "plt.plot(fpr, tpr, 'b', label = 'AUC = %0.2f' % roc_auc)\n",
    "plt.legend(loc = 'lower right')\n",
    "plt.plot([0,1],[0,1],'k--')\n",
    "plt.plot(fpr,tpr, label='ANN')\n",
    "plt.ylabel('True Positive Rate (TPR)')\n",
    "plt.xlabel('False Positive Rate (FPR)')\n",
    "plt.title('AUC Curve Logistic Regression')\n",
    "plt.grid(True)\n",
    "plt.show()"
   ]
  },
  {
   "cell_type": "markdown",
   "metadata": {
    "id": "_inQxER4gtib"
   },
   "source": [
    "Gradient Boosting Machine"
   ]
  },
  {
   "cell_type": "code",
   "execution_count": 31,
   "metadata": {
    "colab": {
     "base_uri": "https://localhost:8080/",
     "height": 390
    },
    "id": "nyavdchL0YZm",
    "outputId": "5110ccfd-e2a9-402d-ee41-c92270efae92"
   },
   "outputs": [
    {
     "name": "stdout",
     "output_type": "stream",
     "text": [
      "Classification report:\n",
      "               precision    recall  f1-score   support\n",
      "\n",
      "         0.0       0.65      0.72      0.68      2448\n",
      "         1.0       0.69      0.62      0.65      2479\n",
      "\n",
      "    accuracy                           0.67      4927\n",
      "   macro avg       0.67      0.67      0.67      4927\n",
      "weighted avg       0.67      0.67      0.67      4927\n",
      "\n",
      "ACCURACY OF THE MODEL:  0.667343210878831\n",
      "[[1535  944]\n",
      " [ 695 1753]]\n"
     ]
    },
    {
     "data": {
      "image/png": "[encoded data removed]",
      "text/plain": [
       "<Figure size 432x432 with 2 Axes>"
      ]
     },
     "metadata": {},
     "output_type": "display_data"
    }
   ],
   "source": [
    "from sklearn.ensemble import GradientBoostingClassifier\n",
    "\n",
    "gradient_booster = GradientBoostingClassifier(learning_rate=0.1)\n",
    "\n",
    "gradient_booster.fit(X_train,y_train)\n",
    "\n",
    "# Predict on test set\n",
    "gbc_pred = gradient_booster.predict(X_test)\n",
    "print(\"Classification report:\\n\", classification_report(y_test, gbc_pred))\n",
    "\n",
    "# using metrics module for accuracy calculation\n",
    "print(\"ACCURACY OF THE MODEL: \", metrics.accuracy_score(y_test, gbc_pred))\n",
    "\n",
    "print(confusion_matrix(y_test,gbc_pred,labels=[1,0]))\n",
    "sns.set(rc = {\"figure.figsize\":(6,6)})\n",
    "disp = metrics.ConfusionMatrixDisplay.from_predictions(y_test,gbc_pred,labels=(1,0),normalize=None,cmap='Blues')\n",
    "disp.ax_.grid(False)\n",
    "plt.ylabel(\"True Values\")\n",
    "plt.xlabel(\"Predicted Values\")\n",
    "plt.title(\"CONFUSION MATRIX\")\n",
    "plt.show()"
   ]
  },
  {
   "cell_type": "markdown",
   "metadata": {
    "id": "KrnPRtlqhoWn"
   },
   "source": [
    "Support Vector Machine"
   ]
  },
  {
   "cell_type": "code",
   "execution_count": 32,
   "metadata": {
    "id": "zV10V1074TU7"
   },
   "outputs": [
    {
     "name": "stdout",
     "output_type": "stream",
     "text": [
      "Classification report:\n",
      "               precision    recall  f1-score   support\n",
      "\n",
      "         0.0       0.63      0.72      0.67      2448\n",
      "         1.0       0.68      0.59      0.63      2479\n",
      "\n",
      "    accuracy                           0.65      4927\n",
      "   macro avg       0.66      0.65      0.65      4927\n",
      "weighted avg       0.66      0.65      0.65      4927\n",
      "\n",
      "ACCURACY OF THE MODEL:  0.6537446722143292\n",
      "[[1462 1017]\n",
      " [ 689 1759]]\n"
     ]
    },
    {
     "data": {
      "image/png": "[encoded data removed]",
      "text/plain": [
       "<Figure size 432x432 with 2 Axes>"
      ]
     },
     "metadata": {},
     "output_type": "display_data"
    }
   ],
   "source": [
    "#Import svm model\n",
    "from sklearn import svm\n",
    "\n",
    "#Create a svm Classifier\n",
    "clf = svm.SVC(kernel='linear') # Linear Kernel\n",
    "\n",
    "#Train the model using the training sets\n",
    "clf.fit(X_train, y_train)\n",
    "\n",
    "#Predict the response for test dataset\n",
    "svm_pred = clf.predict(X_test)\n",
    "print(\"Classification report:\\n\", classification_report(y_test, svm_pred))\n",
    "\n",
    "# using metrics module for accuracy calculation\n",
    "print(\"ACCURACY OF THE MODEL: \", metrics.accuracy_score(y_test, svm_pred))\n",
    "\n",
    "print(confusion_matrix(y_test,svm_pred,labels=[1,0]))\n",
    "sns.set(rc = {\"figure.figsize\":(6,6)})\n",
    "disp = metrics.ConfusionMatrixDisplay.from_predictions(y_test,svm_pred,labels=(1,0),normalize=None,cmap='Blues')\n",
    "disp.ax_.grid(False)\n",
    "plt.ylabel(\"True Values\")\n",
    "plt.xlabel(\"Predicted Values\")\n",
    "plt.title(\"CONFUSION MATRIX\")\n",
    "plt.show()"
   ]
  },
  {
   "cell_type": "code",
   "execution_count": 33,
   "metadata": {},
   "outputs": [
    {
     "ename": "AttributeError",
     "evalue": "predict_proba is not available when  probability=False",
     "output_type": "error",
     "traceback": [
      "\u001b[1;31m---------------------------------------------------------------------------\u001b[0m",
      "\u001b[1;31mAttributeError\u001b[0m                            Traceback (most recent call last)",
      "\u001b[1;32m<ipython-input-33-51dfce981bd3>\u001b[0m in \u001b[0;36m<module>\u001b[1;34m\u001b[0m\n\u001b[0;32m      1\u001b[0m \u001b[0mplt\u001b[0m\u001b[1;33m.\u001b[0m\u001b[0mfigure\u001b[0m\u001b[1;33m(\u001b[0m\u001b[0mfigsize\u001b[0m\u001b[1;33m=\u001b[0m\u001b[1;33m(\u001b[0m\u001b[1;36m25\u001b[0m\u001b[1;33m,\u001b[0m\u001b[1;36m16\u001b[0m\u001b[1;33m)\u001b[0m\u001b[1;33m)\u001b[0m\u001b[1;33m\u001b[0m\u001b[1;33m\u001b[0m\u001b[0m\n\u001b[1;32m----> 2\u001b[1;33m \u001b[0mY_predict1_proba\u001b[0m \u001b[1;33m=\u001b[0m \u001b[0mclf\u001b[0m\u001b[1;33m.\u001b[0m\u001b[0mpredict_proba\u001b[0m\u001b[1;33m(\u001b[0m\u001b[0mX_test\u001b[0m\u001b[1;33m)\u001b[0m\u001b[1;33m\u001b[0m\u001b[1;33m\u001b[0m\u001b[0m\n\u001b[0m\u001b[0;32m      3\u001b[0m \u001b[0mY_predict1_proba\u001b[0m \u001b[1;33m=\u001b[0m \u001b[0mY_predict1_proba\u001b[0m\u001b[1;33m[\u001b[0m\u001b[1;33m:\u001b[0m\u001b[1;33m,\u001b[0m \u001b[1;36m1\u001b[0m\u001b[1;33m]\u001b[0m\u001b[1;33m\u001b[0m\u001b[1;33m\u001b[0m\u001b[0m\n\u001b[0;32m      4\u001b[0m \u001b[0mfpr\u001b[0m\u001b[1;33m,\u001b[0m \u001b[0mtpr\u001b[0m\u001b[1;33m,\u001b[0m \u001b[0mthresholds\u001b[0m \u001b[1;33m=\u001b[0m \u001b[0mroc_curve\u001b[0m\u001b[1;33m(\u001b[0m\u001b[0my_test\u001b[0m\u001b[1;33m,\u001b[0m \u001b[0mY_predict1_proba\u001b[0m\u001b[1;33m)\u001b[0m\u001b[1;33m\u001b[0m\u001b[1;33m\u001b[0m\u001b[0m\n\u001b[0;32m      5\u001b[0m \u001b[0mroc_auc\u001b[0m \u001b[1;33m=\u001b[0m \u001b[0mmetrics\u001b[0m\u001b[1;33m.\u001b[0m\u001b[0mauc\u001b[0m\u001b[1;33m(\u001b[0m\u001b[0mfpr\u001b[0m\u001b[1;33m,\u001b[0m \u001b[0mtpr\u001b[0m\u001b[1;33m)\u001b[0m\u001b[1;33m\u001b[0m\u001b[1;33m\u001b[0m\u001b[0m\n",
      "\u001b[1;32m~\\Anaconda3\\lib\\site-packages\\sklearn\\utils\\metaestimators.py\u001b[0m in \u001b[0;36m__get__\u001b[1;34m(self, obj, owner)\u001b[0m\n\u001b[0;32m    107\u001b[0m             \u001b[1;31m# delegate only on instances, not the classes.\u001b[0m\u001b[1;33m\u001b[0m\u001b[1;33m\u001b[0m\u001b[1;33m\u001b[0m\u001b[0m\n\u001b[0;32m    108\u001b[0m             \u001b[1;31m# this is to allow access to the docstrings.\u001b[0m\u001b[1;33m\u001b[0m\u001b[1;33m\u001b[0m\u001b[1;33m\u001b[0m\u001b[0m\n\u001b[1;32m--> 109\u001b[1;33m             \u001b[1;32mif\u001b[0m \u001b[1;32mnot\u001b[0m \u001b[0mself\u001b[0m\u001b[1;33m.\u001b[0m\u001b[0mcheck\u001b[0m\u001b[1;33m(\u001b[0m\u001b[0mobj\u001b[0m\u001b[1;33m)\u001b[0m\u001b[1;33m:\u001b[0m\u001b[1;33m\u001b[0m\u001b[1;33m\u001b[0m\u001b[0m\n\u001b[0m\u001b[0;32m    110\u001b[0m                 \u001b[1;32mraise\u001b[0m \u001b[0mattr_err\u001b[0m\u001b[1;33m\u001b[0m\u001b[1;33m\u001b[0m\u001b[0m\n\u001b[0;32m    111\u001b[0m \u001b[1;33m\u001b[0m\u001b[0m\n",
      "\u001b[1;32m~\\Anaconda3\\lib\\site-packages\\sklearn\\svm\\_base.py\u001b[0m in \u001b[0;36m_check_proba\u001b[1;34m(self)\u001b[0m\n\u001b[0;32m    799\u001b[0m         \u001b[1;32mif\u001b[0m \u001b[1;32mnot\u001b[0m \u001b[0mself\u001b[0m\u001b[1;33m.\u001b[0m\u001b[0mprobability\u001b[0m\u001b[1;33m:\u001b[0m\u001b[1;33m\u001b[0m\u001b[1;33m\u001b[0m\u001b[0m\n\u001b[0;32m    800\u001b[0m             raise AttributeError(\n\u001b[1;32m--> 801\u001b[1;33m                 \u001b[1;34m\"predict_proba is not available when  probability=False\"\u001b[0m\u001b[1;33m\u001b[0m\u001b[1;33m\u001b[0m\u001b[0m\n\u001b[0m\u001b[0;32m    802\u001b[0m             )\n\u001b[0;32m    803\u001b[0m         \u001b[1;32mif\u001b[0m \u001b[0mself\u001b[0m\u001b[1;33m.\u001b[0m\u001b[0m_impl\u001b[0m \u001b[1;32mnot\u001b[0m \u001b[1;32min\u001b[0m \u001b[1;33m(\u001b[0m\u001b[1;34m\"c_svc\"\u001b[0m\u001b[1;33m,\u001b[0m \u001b[1;34m\"nu_svc\"\u001b[0m\u001b[1;33m)\u001b[0m\u001b[1;33m:\u001b[0m\u001b[1;33m\u001b[0m\u001b[1;33m\u001b[0m\u001b[0m\n",
      "\u001b[1;31mAttributeError\u001b[0m: predict_proba is not available when  probability=False"
     ]
    },
    {
     "data": {
      "text/plain": [
       "<Figure size 1800x1152 with 0 Axes>"
      ]
     },
     "metadata": {},
     "output_type": "display_data"
    }
   ],
   "source": [
    "plt.figure(figsize=(25,16))\n",
    "Y_predict1_proba = clf.predict_proba(X_test)\n",
    "Y_predict1_proba = Y_predict1_proba[:, 1]\n",
    "fpr, tpr, thresholds = roc_curve(y_test, Y_predict1_proba)\n",
    "roc_auc = metrics.auc(fpr, tpr)\n",
    "print('ROC_AUC value :',roc_auc,'\\n')\n",
    "\n",
    "plt.subplot(441)\n",
    "plt.plot(fpr, tpr, 'b', label = 'AUC = %0.2f' % roc_auc)\n",
    "plt.legend(loc = 'lower right')\n",
    "plt.plot([0,1],[0,1],'k--')\n",
    "plt.plot(fpr,tpr, label='ANN')\n",
    "plt.ylabel('True Positive Rate (TPR)')\n",
    "plt.xlabel('False Positive Rate (FPR)')\n",
    "plt.title('AUC Curve SVM')\n",
    "plt.grid(True)\n",
    "plt.show()"
   ]
  },
  {
   "cell_type": "code",
   "execution_count": null,
   "metadata": {},
   "outputs": [],
   "source": [
    "## Create a Pickle file using serialization\n",
    "import pickle \n",
    "#pickle_out = open(\"model.pkl\", \"wb\")\n",
    "#pickle.dump(model, pickle_out)\n",
    "#pickle_out.close()\n",
    "\n",
    "with open('trained_model-1.0.2.pkl', 'wb') as f:\n",
    "    pickle.dump(model,f)"
   ]
  },
  {
   "cell_type": "code",
   "execution_count": null,
   "metadata": {},
   "outputs": [],
   "source": [
    "model.predict([[1,2,3,4,5,6]])"
   ]
  },
  {
   "cell_type": "code",
   "execution_count": null,
   "metadata": {},
   "outputs": [],
   "source": [
    "print('The scikit-learn version is {}.'.format(sklearn.__version__))"
   ]
  },
  {
   "cell_type": "code",
   "execution_count": null,
   "metadata": {},
   "outputs": [],
   "source": []
  }
 ],
 "metadata": {
  "colab": {
   "provenance": []
  },
  "kernelspec": {
   "display_name": "condas",
   "language": "python",
   "name": "condas"
  },
  "language_info": {
   "codemirror_mode": {
    "name": "ipython",
    "version": 3
   },
   "file_extension": ".py",
   "mimetype": "text/x-python",
   "name": "python",
   "nbconvert_exporter": "python",
   "pygments_lexer": "ipython3",
   "version": "3.7.4"
  }
 },
 "nbformat": 4,
 "nbformat_minor": 1
}
